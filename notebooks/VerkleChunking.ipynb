{
 "cells": [
  {
   "cell_type": "code",
   "execution_count": null,
   "id": "90cbbfe5-90f6-4098-8171-dd856585071f",
   "metadata": {},
   "outputs": [],
   "source": [
    "import pandas as pd\n",
    "import plotly.express as px\n",
    "import numpy as np\n",
    "import plotly.graph_objects as go\n",
    "import plotly.figure_factory as ff\n",
    "\n",
    "base_data = pd.read_csv(\"gas_analysis.csv\")\n",
    "contract_sizes_base_data = pd.read_csv(\"contracts_chunked_sizes.csv\")\n",
    "contract_chunks_base_data = pd.read_csv(\"contracts_chunks_stats.csv\")"
   ]
  },
  {
   "cell_type": "markdown",
   "id": "efed3780-4557-4b90-8e49-e03d95818d7e",
   "metadata": {},
   "source": [
    "# Txs dataset general metrics"
   ]
  },
  {
   "cell_type": "code",
   "execution_count": null,
   "id": "d7032036-5c27-4c6d-8101-3058f91339d7",
   "metadata": {},
   "outputs": [],
   "source": [
    "# @title Txs dataset - Execution length histogram\n",
    "\n",
    "total_txs = base_data[\"tx\"].count()\n",
    "total_contracts = contract_sizes_base_data[\"contract_addr\"].count()\n",
    "\n",
    "print(\"A total of {} transactions where analyzed. Their execution involved executing {} contracts (fully or partially).\".format(total_txs, total_contracts))\n",
    "q = base_data[\"execution_length\"].quantile(0.95)\n",
    "df = base_data[base_data[\"execution_length\"] <= q]\n",
    "q = df[\"receipt_gas\"].quantile(0.95)\n",
    "df = df[df[\"receipt_gas\"] <= q]\n",
    "\n",
    "fig = px.density_heatmap(\n",
    "    df, \n",
    "    title=\"Heatmap count - execution_length (95%-th) and receipt_gas (95%-th)\",\n",
    "    x=\"receipt_gas\", \n",
    "    y=\"execution_length\", \n",
    "    marginal_x=\"histogram\", \n",
    "    marginal_y=\"histogram\", \n",
    "    nbinsx=15, \n",
    "    nbinsy=9,\n",
    "    text_auto=True,\n",
    "    width=1500,\n",
    "    height=1000)\n",
    "fig.show()"
   ]
  },
  {
   "cell_type": "markdown",
   "id": "ef821d5d-35e4-4fb0-ae75-da1c6c5fcf7b",
   "metadata": {},
   "source": [
    "# Chunkers: Gas usage simulation"
   ]
  },
  {
   "cell_type": "code",
   "execution_count": null,
   "id": "3da18cf0-362b-4a63-95bf-face3a009127",
   "metadata": {},
   "outputs": [],
   "source": [
    "def plot_gas_simulation(name, base_data, head_n=10):\n",
    "    q = base_data[\"receipt_gas\"].quantile(0.95)\n",
    "    df = base_data[base_data[\"execution_length\"] <= q]\n",
    "    fig = px.histogram(\n",
    "        df, \n",
    "        x=\"31bytechunker_gas\", \n",
    "        labels={\"31bytechunker_gas\":\"code_access_gas\"}, \n",
    "        nbins=40, \n",
    "        histnorm='percent',\n",
    "        width=800, \n",
    "        height=450, \n",
    "        title=\"31-byte chunker code-access gas ({})\".format(name))\n",
    "    fig.show()\n",
    "    \n",
    "    df = base_data\n",
    "    z31bytechunker_gas_sum = df['31bytechunker_gas'].sum()\n",
    "    print()\n",
    "    print('sum(txs.31bytechunker_gas)/sum(txs.receipt_gas): {:0.2f}%'.format((z31bytechunker_gas_sum/base_data['receipt_gas'].sum())*100))\n",
    "    \n",
    "    df['code_gas_overhead_percentage'] = (df['31bytechunker_gas'] / df['receipt_gas']) * 100\n",
    "    fig = px.histogram(\n",
    "        df, \n",
    "        x=\"code_gas_overhead_percentage\", \n",
    "        labels={\"code_gas_overhead_percentage\":\"code_access_gas/receipt_gas (%)\"}, \n",
    "        nbins=50, \n",
    "         histnorm='percent',\n",
    "        width=800, \n",
    "        height=450, \n",
    "        title=\"Histogram - Code-access gas overhead (%) ({})\".format(name))\n",
    "    fig.show()\n",
    "    \n",
    "    print()\n",
    "    \n",
    "    df = base_data\n",
    "    print()\n",
    "    df = df.sort_values(by=['code_gas_overhead_percentage'], ascending=False)\n",
    "    print(\"Top 10 code-access worse overhead ({}):\".format(name))\n",
    "    print(df[['tx', 'execution_length', 'receipt_gas', '31bytechunker_gas', 'code_gas_overhead_percentage']].head(n=head_n).to_markdown(index=False))\n",
    "    \n",
    "    print()\n",
    "    df = df.sort_values(by=['execution_length'], ascending=False)\n",
    "    print(\"Top 10 longest-execution txs ({}):\".format(name))\n",
    "    print(df[['tx', 'execution_length', 'receipt_gas', '31bytechunker_gas', 'code_gas_overhead_percentage']].head(n=head_n).to_markdown(index=False))\n",
    "\n",
    "plot_gas_simulation(\"mainnet txs\", base_data)"
   ]
  },
  {
   "cell_type": "markdown",
   "id": "dabfecd3-a9c1-4249-a344-9dd0fade6fc6",
   "metadata": {},
   "source": [
    "# 31-byte chunker vs 32-byte chunker"
   ]
  },
  {
   "cell_type": "code",
   "execution_count": null,
   "id": "cdc1bd5e-533a-4b6f-84c5-e0638a447402",
   "metadata": {},
   "outputs": [],
   "source": [
    "#\n",
    "df = base_data\n",
    "z31bytechunker_gas_sum = df['31bytechunker_gas'].sum()\n",
    "z32bytechunker_gas_sum = df['32bytechunker_gas'].sum()\n",
    "print('The {} txs would have used the following amount of gas:'.format(total_txs))\n",
    "print('\\t- With a 31-byte chunker: {}'.format(z31bytechunker_gas_sum))\n",
    "print('\\t- With a 32-byte chunker: {}'.format(z32bytechunker_gas_sum))\n",
    "diff = z32bytechunker_gas_sum-z31bytechunker_gas_sum\n",
    "print('Thus, the 32-byte chunker used {} {} gas ({:0.2f}%) than the 31-byte chunker.'.format(diff, 'more' if diff > 0 else 'less', (z32bytechunker_gas_sum/z31bytechunker_gas_sum -1) * 100))\n",
    "\n",
    "print()\n",
    "df_diff = df[df['31bytechunker_gas'] != df['32bytechunker_gas']].copy()\n",
    "df_diff['gas_diff'] = df['32bytechunker_gas'] - df['31bytechunker_gas']\n",
    "df_diff['gas_diff_ratio'] = df['32bytechunker_gas']/df['31bytechunker_gas']\n",
    "df_diff = df_diff.sort_values(by=['gas_diff_ratio'], ascending=False)\n",
    "print(\"A total of {} txs have different gas cost.\".format(df_diff['tx'].count()))\n",
    "print(\"Top-10 worst-cases:\")\n",
    "print(df_diff[['tx', '31bytechunker_gas', '32bytechunker_gas', 'gas_diff', 'gas_diff_ratio']].head(n=10).to_markdown(index=False))\n",
    "df_diff = df_diff.sort_values(by=['gas_diff_ratio'])\n",
    "\n",
    "print()\n",
    "\n",
    "print(\"Top-10 best-cases:\")\n",
    "print(df_diff[['tx', '31bytechunker_gas', '32bytechunker_gas', 'gas_diff', 'gas_diff_ratio']].head(n=10).to_markdown(index=False))\n",
    "\n",
    "print()\n",
    "\n",
    "print('sum(txs.32bytechunker_gas)/sum(txs.receipt_gas): {:0.2f}%'.format((z32bytechunker_gas_sum/base_data['receipt_gas'].sum())*100))\n",
    "df['code_gas_overhead_percentage'] = (df['32bytechunker_gas'] / df['receipt_gas']) * 100\n",
    "fig = px.histogram(\n",
    "    df, \n",
    "    x=\"code_gas_overhead_percentage\", \n",
    "    labels={\"code_gas_overhead_percentage\":\"code_access_gas/receipt_gas (%)\"}, \n",
    "    nbins=50, \n",
    "     histnorm='percent',\n",
    "    width=800, \n",
    "    height=450, \n",
    "    title=\"Histogram - Code-access gas overhead (%) (32-byte chunker)\")\n",
    "fig.show()\n",
    "\n"
   ]
  },
  {
   "cell_type": "markdown",
   "id": "20c8703d-5a6b-4fd6-a63c-2a95f3693170",
   "metadata": {},
   "source": [
    "# Chunkers: encoded sizes\n",
    "\n",
    "Remember that chunkers align chunked size to the next power of 32."
   ]
  },
  {
   "cell_type": "code",
   "execution_count": null,
   "id": "b083181e-b40e-40c8-b5c6-2bd487721bc9",
   "metadata": {},
   "outputs": [],
   "source": [
    "#\n",
    "df = contract_sizes_base_data\n",
    "\n",
    "z31bytechunker_size_sum = df['31bytechunker_chunked_size'].sum()\n",
    "z32bytechunker_size_sum = df['32bytechunker_chunked_size'].sum()\n",
    "original_size_sum = df['original_size'].sum()\n",
    "print('Avg contract size: {:0.0f} bytes'.format(df['original_size'].mean()))\n",
    "print('Total non-chunked contracts size: {:0.2f}MiB'.format(original_size_sum/1024/1024))\n",
    "print('Total 31-byte chunked size: {:0.2f}MiB ({:0.1f}% more)'.format(z31bytechunker_size_sum/1024/1024, (z31bytechunker_size_sum/original_size_sum-1)*100))\n",
    "print('Total 32-byte chunked contracts size: {:0.2f}MiB ({:0.1f}% more)'.format(z32bytechunker_size_sum/1024/1024, (z32bytechunker_size_sum/original_size_sum-1)*100))\n",
    "diff = z32bytechunker_size_sum-z31bytechunker_size_sum\n",
    "print('Thus, 32-byte chunker uses {:0.2f}MiB ({:0.1f}%) {} than the 31-byte chunker'.format(diff/1024/1024, (z32bytechunker_size_sum/z31bytechunker_size_sum -1) * 100, 'more' if diff > 0 else 'less'))\n",
    "\n",
    "print()\n",
    "\n",
    "z32_bigger_than_z31 = df[(df['32bytechunker_chunked_size']-df['31bytechunker_chunked_size'])>0]\n",
    "print('There are {} contracts of 32-byte-chunker bigger than 31-byte-chunker:'.format(z32_bigger_than_z31['original_size'].count()))\n",
    "print(z32_bigger_than_z31[['contract_addr', '31bytechunker_chunked_size', '32bytechunker_chunked_size']].to_markdown())\n"
   ]
  },
  {
   "cell_type": "markdown",
   "id": "1514e2d9-e535-48ab-9205-2330724813dd",
   "metadata": {},
   "source": [
    "# Top burners"
   ]
  },
  {
   "cell_type": "code",
   "execution_count": null,
   "id": "5c93fcae-1391-44a9-9292-ebf638bbd244",
   "metadata": {},
   "outputs": [],
   "source": [
    "top_burners = { \n",
    "    \"Uniswap: Universal Router\": \"0x3fc91a3afd70395cd496c647d5a6cc9d4b2b7fad\",\n",
    "    \"Tether\" : \"0xdac17f958d2ee523a2206206994597c13d831ec7\",\n",
    "    \"Metamask: Swap router\": \"0x881d40237659c251811cec9c364ef91dc08d300c\",\n",
    "    \"Uniswap V3\": \"0xc36442b4a4522e871399cd717abdd847ab11fe88\",\n",
    "}\n",
    "\n",
    "total_gas = base_data['receipt_gas'].sum()\n",
    "for name, contract_addr in top_burners.items():\n",
    "    data = base_data[base_data['to'].str.lower() == contract_addr.lower()]\n",
    "    filtered_total_gas = data['receipt_gas'].sum()\n",
    "    print()\n",
    "    print(\"{} ({}) accounts for {:0.1f}% of gas from the whole txs set (mainnet gas) \".format(name, contract_addr, filtered_total_gas/total_gas*100))\n",
    "    plot_gas_simulation(name, data, 5)\n",
    "    "
   ]
  }
 ],
 "metadata": {
  "kernelspec": {
   "display_name": "Python 3 (ipykernel)",
   "language": "python",
   "name": "python3"
  },
  "language_info": {
   "codemirror_mode": {
    "name": "ipython",
    "version": 3
   },
   "file_extension": ".py",
   "mimetype": "text/x-python",
   "name": "python",
   "nbconvert_exporter": "python",
   "pygments_lexer": "ipython3",
   "version": "3.11.9"
  }
 },
 "nbformat": 4,
 "nbformat_minor": 5
}
