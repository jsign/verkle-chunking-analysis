{
 "cells": [
  {
   "cell_type": "code",
   "execution_count": null,
   "id": "2df58b8b-d122-41b2-94c1-f85a7132ad25",
   "metadata": {},
   "outputs": [],
   "source": [
    "import pandas as pd\n",
    "import plotly.express as px\n",
    "import numpy as np\n",
    "import plotly.graph_objects as go\n",
    "import plotly.figure_factory as ff\n",
    "\n",
    "gas_analysis_data = pd.read_csv(\"gas_analysis.csv\")\n",
    "contract_chunks_base_data = pd.read_csv(\"contracts_chunks_stats.csv\")"
   ]
  },
  {
   "cell_type": "code",
   "execution_count": null,
   "id": "f6cf45eb-19b4-46eb-8016-20b6be4fc7b8",
   "metadata": {},
   "outputs": [],
   "source": [
    "# Check that all tx aggregation of gas per chunk matches gas_analysis_data (it must)\n",
    "tx_sum_gas = contract_chunks_base_data.groupby(\"tx\").aggregate({\"gas_used\": \"sum\"}).reset_index()\n",
    "diff = tx_sum_gas.merge(gas_analysis_data[[\"tx\", \"31bytechunker_gas\"]], on=\"tx\")\n",
    "if ((diff['gas_used'] - diff['31bytechunker_gas']) != 0).any():\n",
    "    raise Exception(\"chunks total gas doesn't match 31bytechunker gas\")"
   ]
  },
  {
   "cell_type": "code",
   "execution_count": null,
   "id": "6ab203a6-14a8-4ef7-9d92-0057014ed353",
   "metadata": {},
   "outputs": [],
   "source": [
    "WITNESS_BRANCH_COST = 1900\n",
    "\n",
    "# Create dataframe with: tx, num_contracts, avg_bytes_used_per_chunk, code_gas_used, charged_branch_cost_count, receipt_gas\n",
    "df = contract_chunks_base_data.groupby(\"tx\")\n",
    "df = df.aggregate({\"contract_addr\": 'nunique', \"bytes_used\": 'mean', \"gas_used\": ['sum', lambda x: (x > WITNESS_BRANCH_COST).sum()]}).reset_index()\n",
    "\n",
    "df2 = pd.DataFrame()\n",
    "df2['tx'] = df['tx']\n",
    "df2['num_called_contracts'] = df[('contract_addr', 'nunique')]\n",
    "df2['avg_bytes_used_per_chunk'] = df[('bytes_used', 'mean')]\n",
    "df2['code_gas_used'] = df[('gas_used', 'sum')]\n",
    "df2['num_charged_branch_cost'] = df[('gas_used', '<lambda_0>')]\n",
    "\n",
    "fig = px.density_heatmap(\n",
    "    df2, \n",
    "    title=\"Called contracts vs charged WITNESS_BRANCH_COST\",\n",
    "    x=\"num_called_contracts\", \n",
    "    y=\"num_charged_branch_cost\", \n",
    "    marginal_x=\"histogram\", \n",
    "    marginal_y=\"histogram\", \n",
    "    nbinsx=20, \n",
    "    nbinsy=20,\n",
    "    text_auto=True,\n",
    "    width=1500,\n",
    "    height=1000)\n",
    "fig.show()\n",
    "\n",
    "print(\"Uniswap tx ordered desc on number of branch cost charged:\")\n",
    "jj = df2.sort_values(by=[\"num_charged_branch_cost\"], ascending=False)\n",
    "print(jj[['tx', 'num_charged_branch_cost']].head().to_markdown())\n",
    "\n",
    "q = gas_analysis_data[\"num_exec_contracts\"].quantile(0.99)\n",
    "df = gas_analysis_data[gas_analysis_data[\"num_exec_contracts\"] <= q]\n",
    "\n",
    "fig = go.Figure()\n",
    "fig.add_trace(go.Histogram(x=df[df['to'] != contract_chunks_base_data.loc[0]['to']]['num_exec_contracts'], histnorm=\"percent\", name=\"mainnet (without uniswap)\"))\n",
    "fig.add_trace(go.Histogram(x=df[df['to'] == contract_chunks_base_data.loc[0]['to']]['num_exec_contracts'], histnorm=\"percent\", name=\"uniswap\"))\n",
    "fig.update_layout(barmode='overlay', width=800, height=450)\n",
    "fig.update_traces(opacity=0.50)\n",
    "fig.show()"
   ]
  },
  {
   "cell_type": "code",
   "execution_count": null,
   "id": "07d79876-3671-445e-97f5-1cc3b77a8243",
   "metadata": {},
   "outputs": [],
   "source": []
  }
 ],
 "metadata": {
  "kernelspec": {
   "display_name": "Python 3 (ipykernel)",
   "language": "python",
   "name": "python3"
  },
  "language_info": {
   "codemirror_mode": {
    "name": "ipython",
    "version": 3
   },
   "file_extension": ".py",
   "mimetype": "text/x-python",
   "name": "python",
   "nbconvert_exporter": "python",
   "pygments_lexer": "ipython3",
   "version": "3.11.9"
  }
 },
 "nbformat": 4,
 "nbformat_minor": 5
}
